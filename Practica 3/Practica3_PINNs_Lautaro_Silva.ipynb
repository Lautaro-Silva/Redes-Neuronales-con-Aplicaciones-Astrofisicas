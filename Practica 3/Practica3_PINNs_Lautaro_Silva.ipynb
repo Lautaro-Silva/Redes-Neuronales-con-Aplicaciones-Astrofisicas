{
 "cells": [
  {
   "cell_type": "markdown",
   "id": "068e4eb5-aebd-43e0-a410-9f17dc660d2d",
   "metadata": {},
   "source": [
    "# Exercise!\n",
    "\n",
    "Consider the equation\n",
    "\n",
    "$$x^{\\prime\\prime}(t)+\\alpha x^{\\prime}(t)-\\beta x(t)=0$$\n",
    "\n",
    "with initial conditions: $x(0)=1$, $x^\\prime(0)=0$, and $t \\in [0,1]$.\n",
    "\n",
    "**a)** Solve the equation using the `neurodiffeq` module for the values $\\alpha = \\beta = 1$. Note: you CAN'T fix $\\beta=0$ and use the bundle method only for $\\alpha$.\n",
    "\n",
    "**b)** Compute the percentage difference between the PINN-based solution and the analytical one in the range $[0,1]$. Now do the same for the range $[-1,2]$. \n",
    "\n",
    "**Hint:** The analytical solution for these parameter values is:\n",
    "\n",
    "$$x(t) = \\frac{1}{2\\sqrt{5}}\\left((1+\\sqrt{5})e^{(-1+\\sqrt{5})t/2}+(-1+\\sqrt{5})e^{-(1+\\sqrt{5})t/2}\\right)$$\n",
    "\n",
    "**c)** Achieve an accuracy such that the percentage error is less than 1% for all values of t (if your solution is not so good, go back to training!).\n",
    "\n",
    "**d)** Compute and plot the residuals and try to interpretate them.\n",
    "\n",
    "Send your solution to gomezlucajavier@gmail.com.\n",
    "\n",
    "**Note:** You can solve this exercise with or without using the *bundle method*. If you choose to use the bundle method, be careful with the number of inputs to the networks, and also with the definition of `eq_param_index` in the solver. While the bundle method might make it easier to follow the structure of the code, it may also lead to longer training times.\n"
   ]
  },
  {
   "cell_type": "code",
   "execution_count": null,
   "id": "669b6898-a945-496e-a7c8-2244b294f5e9",
   "metadata": {},
   "outputs": [],
   "source": []
  }
 ],
 "metadata": {
  "kernelspec": {
   "display_name": "Python 3 (ipykernel)",
   "language": "python",
   "name": "python3"
  },
  "language_info": {
   "codemirror_mode": {
    "name": "ipython",
    "version": 3
   },
   "file_extension": ".py",
   "mimetype": "text/x-python",
   "name": "python",
   "nbconvert_exporter": "python",
   "pygments_lexer": "ipython3",
   "version": "3.12.5"
  }
 },
 "nbformat": 4,
 "nbformat_minor": 5
}
